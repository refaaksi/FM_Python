{
 "cells": [
  {
   "cell_type": "code",
   "execution_count": 1,
   "source": [
    "from rtlsdr import RtlSdr\n",
    "import  adi\n",
    "import numpy as np  \n",
    "import scipy.signal as signal\n",
    "\n",
    "import matplotlib  \n",
    "matplotlib.use('Agg') # necessary for headless mode  \n",
    "# see http://stackoverflow.com/a/3054314/3524528\n",
    "import matplotlib.pyplot as plt"
   ],
   "outputs": [],
   "metadata": {}
  },
  {
   "cell_type": "code",
   "execution_count": 2,
   "source": [
    "sdr = adi.Pluto(\"ip:192.168.2.1\")\n",
    "\n",
    "F_station = int(101.8e6)  \n",
    "Fs = int(1024000)         # Sample rate  \n",
    "N = int(2097152)  # Samples to capture = 2^21\n",
    "\n",
    "# configure device\n",
    "sdr.sample_rate = Fs      # Hz  \n",
    "sdr.rx_lo = F_station      # Hz  \n",
    "sdr.rx_buffer_size = N\n",
    "sdr.gain_control_mode_chan0 = 'manual'\n",
    "\n",
    "# Read samples\n",
    "samples = sdr.rx()\n",
    "\n",
    "# Clean up the SDR device\n",
    "# sdr.rx_destroy_buffer()  \n",
    "# del(sdr)\n",
    "\n",
    "# Convert samples to a numpy array\n",
    "x1 = np.array(samples).astype(\"complex64\")"
   ],
   "outputs": [],
   "metadata": {}
  },
  {
   "cell_type": "code",
   "execution_count": 7,
   "source": [
    "plt.specgram(x1, NFFT=2048, Fs=Fs)  \n",
    "plt.title(\"x1\")  \n",
    "plt.ylim(-Fs/2, Fs/2)  \n",
    "plt.savefig(\"x1_spec.pdf\", bbox_inches='tight', pad_inches=0.5)  \n",
    "plt.close()"
   ],
   "outputs": [],
   "metadata": {}
  },
  {
   "cell_type": "code",
   "execution_count": 8,
   "source": [
    "# To mix the data down, generate a digital complex exponential \n",
    "# (with the same length as x1) with phase -F_offset/Fs\n",
    "\n",
    "# fc1 = np.exp(-1.0j*2.0*np.pi* F_offset/Fs*np.arange(len(x1)))  \n",
    "\n",
    "# Now, just multiply x1 and the digital complex expontential\n",
    "x2 = x1\n"
   ],
   "outputs": [],
   "metadata": {}
  },
  {
   "cell_type": "code",
   "execution_count": 9,
   "source": [
    "plt.specgram(x2, NFFT=2048, Fs=Fs)  \n",
    "plt.title(\"x2\")  \n",
    "plt.xlabel(\"Time (s)\")  \n",
    "plt.ylabel(\"Frequency (Hz)\")  \n",
    "plt.ylim(-Fs/2, Fs/2)  \n",
    "plt.xlim(0,len(x2)/Fs)  \n",
    "plt.ticklabel_format(style='plain', axis='y' ) \n",
    "plt.savefig(\"x2_spec.pdf\", bbox_inches='tight', pad_inches=0.5)  \n",
    "plt.close()  "
   ],
   "outputs": [],
   "metadata": {}
  },
  {
   "cell_type": "code",
   "execution_count": 10,
   "source": [
    "# An FM broadcast signal has  a bandwidth of 200 kHz\n",
    "f_bw = 200000  \n",
    "dec_rate = int(Fs / f_bw)  \n",
    "x4 = signal.decimate(x2, dec_rate)  \n",
    "# Calculate the new sampling rate\n",
    "Fs_y = Fs/dec_rate  "
   ],
   "outputs": [],
   "metadata": {}
  },
  {
   "cell_type": "code",
   "execution_count": 11,
   "source": [
    "plt.specgram(x4, NFFT=2048, Fs=Fs_y)  \n",
    "plt.title(\"x4\")  \n",
    "plt.ylim(-Fs_y/2, Fs_y/2)  \n",
    "plt.xlim(0,len(x4)/Fs_y)  \n",
    "plt.ticklabel_format(style='plain', axis='y' )  \n",
    "plt.savefig(\"x4_spec.pdf\", bbox_inches='tight', pad_inches=0.5)  \n",
    "plt.show()\n",
    "plt.close() "
   ],
   "outputs": [
    {
     "output_type": "stream",
     "name": "stderr",
     "text": [
      "/tmp/ipykernel_37463/1056615786.py:7: UserWarning: Matplotlib is currently using agg, which is a non-GUI backend, so cannot show the figure.\n",
      "  plt.show()\n"
     ]
    }
   ],
   "metadata": {}
  },
  {
   "cell_type": "code",
   "execution_count": 12,
   "source": [
    "# Plot the constellation of x4.  What does it look like?\n",
    "plt.scatter(np.real(x4[0:50000]), np.imag(x4[0:50000]), color=\"red\", alpha=0.05)  \n",
    "plt.title(\"x4\")  \n",
    "plt.xlabel(\"Real\")  \n",
    "plt.xlim(-1.1,1.1)  \n",
    "plt.ylabel(\"Imag\")  \n",
    "plt.ylim(-1.1,1.1)  \n",
    "plt.savefig(\"x4_const.pdf\", bbox_inches='tight', pad_inches=0.5)  \n",
    "plt.close() "
   ],
   "outputs": [],
   "metadata": {}
  },
  {
   "cell_type": "code",
   "execution_count": 13,
   "source": [
    "y5 = x4[1:] * np.conj(x4[:-1])  \n",
    "x5 = np.angle(y5)  "
   ],
   "outputs": [],
   "metadata": {}
  },
  {
   "cell_type": "code",
   "execution_count": 14,
   "source": [
    "# Note: x5 is now an array of real, not complex, values\n",
    "# As a result, the PSDs will now be plotted single-sided by default (since\n",
    "# a real signal has a symmetric spectrum)\n",
    "# Plot the PSD of x5\n",
    "plt.psd(x5, NFFT=2048, Fs=Fs_y, color=\"blue\")  \n",
    "plt.title(\"x5\")  \n",
    "plt.axvspan(0,             15000,         color=\"red\", alpha=0.2)  \n",
    "plt.axvspan(19000-500,     19000+500,     color=\"green\", alpha=0.4)  \n",
    "plt.axvspan(19000*2-15000, 19000*2+15000, color=\"orange\", alpha=0.2)  \n",
    "plt.axvspan(19000*3-1500,  19000*3+1500,  color=\"blue\", alpha=0.2)  \n",
    "plt.ticklabel_format(style='plain', axis='y' )  \n",
    "plt.savefig(\"x5_psd.pdf\", bbox_inches='tight', pad_inches=0.5)  \n",
    "plt.close()  "
   ],
   "outputs": [],
   "metadata": {}
  },
  {
   "cell_type": "code",
   "execution_count": 15,
   "source": [
    "# The de-emphasis filter\n",
    "# Given a signal 'x5' (in a numpy array) with sampling rate Fs_y\n",
    "# d = Fs_y * 75e-6   # Calculate the # of samples to hit the -3dB point  \n",
    "# x = np.exp(-1/d)   # Calculate the decay between each sample  \n",
    "# b = [1-x]          # Create the filter coefficients  \n",
    "# print(b)\n",
    "# a = [1,-x]  \n",
    "# print(a)\n",
    "# x6 = signal.lfilter(b,a,x5)\n",
    "x6=x5"
   ],
   "outputs": [],
   "metadata": {}
  },
  {
   "cell_type": "code",
   "execution_count": 16,
   "source": [
    "# Find a decimation rate to achieve audio sampling rate between 44-48 kHz\n",
    "audio_freq = 44100.0  \n",
    "dec_audio = int(Fs_y/audio_freq)  \n",
    "Fs_audio = Fs_y / dec_audio\n",
    "\n",
    "x7 = signal.decimate(x6, dec_audio) "
   ],
   "outputs": [],
   "metadata": {}
  },
  {
   "cell_type": "code",
   "execution_count": 17,
   "source": [
    "# Scale audio to adjust volume\n",
    "x7 *= 10000 / np.max(np.abs(x7))  \n",
    "# Save to file as 16-bit signed single-channel audio samples\n",
    "x7.astype(\"int16\").tofile(\"wbfm-mono.raw\")  "
   ],
   "outputs": [],
   "metadata": {}
  },
  {
   "cell_type": "code",
   "execution_count": 18,
   "source": [
    "print(Fs_audio)  "
   ],
   "outputs": [
    {
     "output_type": "stream",
     "name": "stdout",
     "text": [
      "51200.0\n"
     ]
    }
   ],
   "metadata": {}
  },
  {
   "cell_type": "code",
   "execution_count": 20,
   "source": [
    "!aplay wbfm-mono.raw -r 45600 -f S16_LE -t raw -c 1  "
   ],
   "outputs": [
    {
     "output_type": "stream",
     "name": "stdout",
     "text": [
      "Playing raw data 'wbfm-mono.raw' : Signed 16 bit Little Endian, Rate 45600 Hz, Mono\n"
     ]
    }
   ],
   "metadata": {}
  }
 ],
 "metadata": {
  "orig_nbformat": 4,
  "language_info": {
   "name": "python",
   "version": "3.8.10",
   "mimetype": "text/x-python",
   "codemirror_mode": {
    "name": "ipython",
    "version": 3
   },
   "pygments_lexer": "ipython3",
   "nbconvert_exporter": "python",
   "file_extension": ".py"
  },
  "kernelspec": {
   "name": "python3",
   "display_name": "Python 3.8.10 64-bit"
  },
  "interpreter": {
   "hash": "31f2aee4e71d21fbe5cf8b01ff0e069b9275f58929596ceb00d14d90e3e16cd6"
  }
 },
 "nbformat": 4,
 "nbformat_minor": 2
}